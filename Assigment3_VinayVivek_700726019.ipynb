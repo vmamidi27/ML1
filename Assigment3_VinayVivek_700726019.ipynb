{
 "cells": [
  {
   "cell_type": "code",
   "execution_count": 2,
   "id": "85899186",
   "metadata": {},
   "outputs": [],
   "source": [
    "import numpy as np"
   ]
  },
  {
   "cell_type": "code",
   "execution_count": 4,
   "id": "69a4cca7",
   "metadata": {},
   "outputs": [
    {
     "data": {
      "text/plain": [
       "'1.20.3'"
      ]
     },
     "execution_count": 4,
     "metadata": {},
     "output_type": "execute_result"
    }
   ],
   "source": [
    "np.__version__"
   ]
  },
  {
   "cell_type": "code",
   "execution_count": 7,
   "id": "f9b2aa2a",
   "metadata": {},
   "outputs": [
    {
     "name": "stdout",
     "output_type": "stream",
     "text": [
      "Array shape: (3, 5)\n",
      "Array shape: (4, 3)\n",
      "Array type: <class 'numpy.ndarray'>\n",
      "Array data type: int32\n"
     ]
    }
   ],
   "source": [
    "ranvec = np.random.randint(low=1, high=21, size=15)\n",
    "arr1 = ranvec.reshape((3, 5))\n",
    "print(\"Array shape:\", arr1.shape)\n",
    "arr1[np.arange(arr1.shape[0]), np.argmax(arr1, axis=1)] = 0\n",
    "arr1_2dim = np.zeros((4, 3), dtype=np.int32)\n",
    "print(\"Array shape:\", arr1_2dim.shape)\n",
    "print(\"Array type:\", type(arr1_2dim))\n",
    "print(\"Array data type:\", arr1_2dim.dtype)"
   ]
  },
  {
   "cell_type": "code",
   "execution_count": 9,
   "id": "e87c8bb5",
   "metadata": {},
   "outputs": [
    {
     "name": "stdout",
     "output_type": "stream",
     "text": [
      "Eigenvalues: [2. 1.]\n",
      "Right Eigenvectors:\n",
      " [[0.89442719 0.70710678]\n",
      " [0.4472136  0.70710678]]\n"
     ]
    }
   ],
   "source": [
    "newarr = np.array([[3, -2],\n",
    "              [1, 0]])\n",
    "eigenvals, eigenvecs = np.linalg.eig(newarr)\n",
    "print(\"Eigenvalues:\", eigenvals)\n",
    "print(\"Right Eigenvectors:\\n\", eigenvecs)"
   ]
  },
  {
   "cell_type": "code",
   "execution_count": 11,
   "id": "b7fa6e16",
   "metadata": {},
   "outputs": [
    {
     "name": "stdout",
     "output_type": "stream",
     "text": [
      "Sum of diagonal elements of array: 4\n"
     ]
    }
   ],
   "source": [
    "narr = np.array([[0, 1, 2],\n",
    "              [3, 4, 5]])\n",
    "sum1 = np.trace(narr)\n",
    "print(\"Sum of diagonal elements of array:\", sum1)"
   ]
  },
  {
   "cell_type": "code",
   "execution_count": 14,
   "id": "c9c14545",
   "metadata": {},
   "outputs": [
    {
     "name": "stdout",
     "output_type": "stream",
     "text": [
      "Original array arr1:\n",
      " [[1 2]\n",
      " [3 4]\n",
      " [5 6]]\n",
      "Reshaped array arr2:\n",
      " [[1 2 3]\n",
      " [4 5 6]]\n",
      "Reshaped back to original array arr3:\n",
      " [[1 2]\n",
      " [3 4]\n",
      " [5 6]]\n"
     ]
    }
   ],
   "source": [
    "arr1 = np.array([[1, 2],\n",
    "              [3, 4],\n",
    "              [5, 6]])\n",
    "arr2 = np.reshape(arr1, (2, 3))\n",
    "arr3 = np.reshape(arr2, (3, 2))\n",
    "print(\"Original array arr1:\\n\", arr1)\n",
    "print(\"Reshaped array arr2:\\n\", arr2)\n",
    "print(\"Reshaped back to original array arr3:\\n\", arr3)"
   ]
  },
  {
   "cell_type": "code",
   "execution_count": 16,
   "id": "cb14dd01",
   "metadata": {},
   "outputs": [
    {
     "data": {
      "image/png": "[encoded data removed]",
      "text/plain": [
       "<Figure size 432x288 with 1 Axes>"
      ]
     },
     "metadata": {},
     "output_type": "display_data"
    }
   ],
   "source": [
    "import matplotlib.pyplot as plt\n",
    "languages = ['Java', 'Python', 'PHP', 'JavaScript', 'C#', 'C++']\n",
    "popularity = [22.2, 17.6, 8.8, 8, 7.7, 6.7]\n",
    "plt.pie(popularity, labels=languages, autopct='%1.1f%%')\n",
    "plt.show()"
   ]
  },
  {
   "cell_type": "code",
   "execution_count": null,
   "id": "37becd44",
   "metadata": {},
   "outputs": [],
   "source": []
  }
 ],
 "metadata": {
  "kernelspec": {
   "display_name": "Python 3 (ipykernel)",
   "language": "python",
   "name": "python3"
  },
  "language_info": {
   "codemirror_mode": {
    "name": "ipython",
    "version": 3
   },
   "file_extension": ".py",
   "mimetype": "text/x-python",
   "name": "python",
   "nbconvert_exporter": "python",
   "pygments_lexer": "ipython3",
   "version": "3.9.7"
  }
 },
 "nbformat": 4,
 "nbformat_minor": 5
}
