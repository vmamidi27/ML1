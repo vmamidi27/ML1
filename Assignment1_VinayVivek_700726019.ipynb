{
 "cells": [
  {
   "cell_type": "code",
   "execution_count": 1,
   "id": "7588d8c8",
   "metadata": {},
   "outputs": [],
   "source": [
    "import numpy as np"
   ]
  },
  {
   "cell_type": "code",
   "execution_count": 2,
   "id": "a81c9fb8",
   "metadata": {},
   "outputs": [
    {
     "data": {
      "text/plain": [
       "'1.20.3'"
      ]
     },
     "execution_count": 2,
     "metadata": {},
     "output_type": "execute_result"
    }
   ],
   "source": [
    "np.__version__"
   ]
  },
  {
   "cell_type": "code",
   "execution_count": 5,
   "id": "70bde906",
   "metadata": {},
   "outputs": [
    {
     "name": "stdout",
     "output_type": "stream",
     "text": [
      "Sorted ages: [19, 19, 20, 22, 24, 24, 24, 25, 25, 26]\n",
      "Min age: 19\n",
      "Max age: 26\n",
      "Median age: 25.5\n",
      "Average age: 22.75\n",
      "Age range: 7\n"
     ]
    }
   ],
   "source": [
    "# 1\n",
    "\n",
    "ages = [19, 22, 19, 24, 20, 25, 26, 24, 25, 24]\n",
    "\n",
    "# Sort the list and find the min and max age\n",
    "sorted_ages = sorted(ages)\n",
    "min_age = sorted_ages[0]\n",
    "max_age = sorted_ages[-1]\n",
    "\n",
    "# Add the min age and the max age again to the list\n",
    "ages.append(min_age)\n",
    "ages.append(max_age)\n",
    "\n",
    "# Find the median age\n",
    "n = len(ages)\n",
    "middle = n // 2\n",
    "if n % 2 == 0:\n",
    "    median_age = (ages[middle-1] + ages[middle]) / 2\n",
    "else:\n",
    "    median_age = ages[middle]\n",
    "\n",
    "# Find the average age\n",
    "avg_age = sum(ages) / n\n",
    "\n",
    "# Find the range of the ages\n",
    "age_range = max_age - min_age\n",
    "\n",
    "# Print the results\n",
    "print(\"Sorted ages:\", sorted_ages)\n",
    "print(\"Min age:\", min_age)\n",
    "print(\"Max age:\", max_age)\n",
    "print(\"Median age:\", median_age)\n",
    "print(\"Average age:\", avg_age)\n",
    "print(\"Age range:\", age_range)"
   ]
  },
  {
   "cell_type": "code",
   "execution_count": 6,
   "id": "c2bc11b6",
   "metadata": {},
   "outputs": [
    {
     "name": "stdout",
     "output_type": "stream",
     "text": [
      "Number of keys in the student dictionary: 9\n",
      "Type of skills: <class 'list'>\n",
      "Dictionary keys: ['first_name', 'last_name', 'gender', 'age', 'marital_status', 'skills', 'country', 'city', 'address']\n",
      "Dictionary values: ['John', 'Doe', 'Male', 25, 'Single', ['Python', 'Java', 'JavaScript', 'HTML', 'CSS'], 'United States', 'New York', '123 Main St']\n"
     ]
    }
   ],
   "source": [
    "# 2\n",
    "# Create an empty dictionary called dog\n",
    "dog = {}\n",
    "\n",
    "# Add name, color, breed, legs, age to the dog dictionary\n",
    "dog['name'] = 'Fido'\n",
    "dog['color'] = 'Brown'\n",
    "dog['breed'] = 'Labrador Retriever'\n",
    "dog['legs'] = 4\n",
    "dog['age'] = 5\n",
    "\n",
    "# Create a student dictionary and add first_name, last_name, gender, age, marital status, skills, country, city and address as keys for the dictionary\n",
    "student = {\n",
    "    'first_name': 'John',\n",
    "    'last_name': 'Doe',\n",
    "    'gender': 'Male',\n",
    "    'age': 25,\n",
    "    'marital_status': 'Single',\n",
    "    'skills': ['Python', 'Java', 'JavaScript'],\n",
    "    'country': 'United States',\n",
    "    'city': 'New York',\n",
    "    'address': '123 Main St'\n",
    "}\n",
    "\n",
    "# Get the length of the student dictionary\n",
    "num_keys = len(student)\n",
    "print(\"Number of keys in the student dictionary:\", num_keys)\n",
    "\n",
    "# Get the value of skills and check the data type, it should be a list\n",
    "skills = student['skills']\n",
    "print(\"Type of skills:\", type(skills))\n",
    "\n",
    "# Modify the skills values by adding one or two skills\n",
    "skills.append('HTML')\n",
    "skills.append('CSS')\n",
    "student['skills'] = skills\n",
    "\n",
    "# Get the dictionary keys as a list\n",
    "keys_list = list(student.keys())\n",
    "print(\"Dictionary keys:\", keys_list)\n",
    "\n",
    "# Get the dictionary values as a list\n",
    "values_list = list(student.values())\n",
    "print(\"Dictionary values:\", values_list)"
   ]
  },
  {
   "cell_type": "code",
   "execution_count": 7,
   "id": "6c5b8365",
   "metadata": {},
   "outputs": [
    {
     "name": "stdout",
     "output_type": "stream",
     "text": [
      "Siblings: ('Alice', 'Beth', 'Chris', 'David', 'Edward')\n",
      "Number of siblings: 5\n",
      "Family members: ('Father', 'Mother', 'Alice', 'Beth', 'Chris', 'David', 'Edward')\n"
     ]
    }
   ],
   "source": [
    "# 3\n",
    "# Create a tuple containing names of your sisters and your brothers\n",
    "sisters = ('Alice', 'Beth')\n",
    "brothers = ('Chris', 'David', 'Edward')\n",
    "\n",
    "# Join brothers and sisters tuples and assign it to siblings\n",
    "siblings = sisters + brothers\n",
    "\n",
    "# Count the number of siblings\n",
    "num_siblings = len(siblings)\n",
    "\n",
    "# Modify the siblings tuple and add the name of your father and mother\n",
    "family_members = ('Father', 'Mother') + siblings\n",
    "\n",
    "# Print the results\n",
    "print(f\"Siblings: {siblings}\")\n",
    "print(f\"Number of siblings: {num_siblings}\")\n",
    "print(f\"Family members: {family_members}\")"
   ]
  },
  {
   "cell_type": "code",
   "execution_count": 8,
   "id": "2a761eff",
   "metadata": {},
   "outputs": [
    {
     "name": "stdout",
     "output_type": "stream",
     "text": [
      "Length of set it_companies: 7\n",
      "Updated it_companies: {'Facebook', 'Microsoft', 'Google', 'Oracle', 'IBM', 'Amazon', 'Twitter', 'Apple'}\n",
      "Updated it_companies: {'LinkedIn', 'Apple', 'Microsoft', 'Facebook', 'IBM', 'Twitter', 'Netflix', 'Amazon', 'Google', 'Oracle'}\n",
      "Updated it_companies: {'LinkedIn', 'Apple', 'Microsoft', 'Facebook', 'IBM', 'Twitter', 'Amazon', 'Google', 'Oracle'}\n",
      "Union of A and B: {19, 20, 22, 24, 25, 26, 27, 28}\n",
      "Intersection of A and B: {19, 20, 22, 24, 25, 26}\n",
      "A is subset of B: True\n",
      "A and B are disjoint sets: False\n",
      "Join A with B: {19, 20, 22, 24, 25, 26, 27, 28}\n",
      "Join B with A: {19, 20, 22, 24, 25, 26, 27, 28}\n",
      "Symmetric difference between A and B: {27, 28}\n",
      "Sets deleted successfully\n",
      "Length of age list: 8, Length of age set: 5\n"
     ]
    }
   ],
   "source": [
    "# 4\n",
    "it_companies = {'Facebook', 'Google', 'Microsoft', 'Apple', 'IBM', 'Oracle', 'Amazon'}\n",
    "A = {19, 22, 24, 20, 25, 26}\n",
    "B = {19, 22, 20, 25, 26, 24, 28, 27}\n",
    "age = [22, 19, 24, 25, 26, 24, 25, 24]\n",
    "\n",
    "# Find the length of the set it_companies\n",
    "len_it_companies = len(it_companies)\n",
    "print(f\"Length of set it_companies: {len_it_companies}\")\n",
    "\n",
    "# Add 'Twitter' to it_companies\n",
    "it_companies.add('Twitter')\n",
    "print(f\"Updated it_companies: {it_companies}\")\n",
    "\n",
    "# Insert multiple IT companies at once to the set it_companies\n",
    "it_companies.update(['LinkedIn', 'Netflix'])\n",
    "print(f\"Updated it_companies: {it_companies}\")\n",
    "\n",
    "# Remove one of the companies from the set it_companies\n",
    "it_companies.remove('Netflix')\n",
    "print(f\"Updated it_companies: {it_companies}\")\n",
    "\n",
    "# What is the difference between remove and discard\n",
    "# The remove method raises a KeyError if the specified element is not found in the set, while the discard method does not raise an error and does nothing in such cases.\n",
    "\n",
    "# Join A and B\n",
    "A_B = A.union(B)\n",
    "print(f\"Union of A and B: {A_B}\")\n",
    "\n",
    "# Find A intersection B\n",
    "A_intersect_B = A.intersection(B)\n",
    "print(f\"Intersection of A and B: {A_intersect_B}\")\n",
    "\n",
    "# Is A subset of B\n",
    "is_A_subset_of_B = A.issubset(B)\n",
    "print(f\"A is subset of B: {is_A_subset_of_B}\")\n",
    "\n",
    "# Are A and B disjoint sets\n",
    "are_A_and_B_disjoint = A.isdisjoint(B)\n",
    "print(f\"A and B are disjoint sets: {are_A_and_B_disjoint}\")\n",
    "\n",
    "# Join A with B and B with A\n",
    "A_B = A.union(B)\n",
    "B_A = B.union(A)\n",
    "print(f\"Join A with B: {A_B}\")\n",
    "print(f\"Join B with A: {B_A}\")\n",
    "\n",
    "# What is the symmetric difference between A and B\n",
    "symmetric_difference = A.symmetric_difference(B)\n",
    "print(f\"Symmetric difference between A and B: {symmetric_difference}\")\n",
    "\n",
    "# Delete the sets completely\n",
    "del it_companies\n",
    "del A\n",
    "del B\n",
    "print(\"Sets deleted successfully\")\n",
    "\n",
    "# Convert the ages to a set and compare the length of the list and the set.\n",
    "age_set = set(age)\n",
    "print(f\"Length of age list: {len(age)}, Length of age set: {len(age_set)}\")\n"
   ]
  },
  {
   "cell_type": "code",
   "execution_count": 9,
   "id": "78806e51",
   "metadata": {},
   "outputs": [],
   "source": [
    "import math"
   ]
  },
  {
   "cell_type": "code",
   "execution_count": 10,
   "id": "42ccceca",
   "metadata": {},
   "outputs": [
    {
     "name": "stdout",
     "output_type": "stream",
     "text": [
      "Area of circle: 2827.4333882308138\n",
      "Circumference of circle: 188.49555921538757\n",
      "Enter the radius of the circle: 15\n",
      "Area of circle: 706.8583470577034\n"
     ]
    }
   ],
   "source": [
    "# 5\n",
    "# Given radius\n",
    "radius = 30\n",
    "\n",
    "# Calculate area of circle\n",
    "area_of_circle = math.pi * radius ** 2\n",
    "print(\"Area of circle:\", area_of_circle)\n",
    "\n",
    "# Calculate circumference of circle\n",
    "circum_of_circle = 2 * math.pi * radius\n",
    "print(\"Circumference of circle:\", circum_of_circle)\n",
    "\n",
    "# Take radius as user input\n",
    "user_radius = float(input(\"Enter the radius of the circle: \"))\n",
    "area_of_circle = math.pi * user_radius ** 2\n",
    "print(\"Area of circle:\", area_of_circle)"
   ]
  },
  {
   "cell_type": "code",
   "execution_count": 1,
   "id": "e869679b",
   "metadata": {},
   "outputs": [
    {
     "name": "stdout",
     "output_type": "stream",
     "text": [
      "10\n"
     ]
    }
   ],
   "source": [
    "# 6\n",
    "sentence = \"I am a teacher and I love to inspire and teach people\"\n",
    "words = set(sentence.split())\n",
    "unique_words_count = len(words)\n",
    "print(unique_words_count)"
   ]
  },
  {
   "cell_type": "code",
   "execution_count": 2,
   "id": "3b87fee6",
   "metadata": {},
   "outputs": [
    {
     "name": "stdout",
     "output_type": "stream",
     "text": [
      "Name\tAge\tCountry\t\tCity\n",
      "Asabeneh\t250\tFinland\t\tHelsinki\n"
     ]
    }
   ],
   "source": [
    "# 7\n",
    "print(\"Name\\tAge\\tCountry\\t\\tCity\\nAsabeneh\\t250\\tFinland\\t\\tHelsinki\")"
   ]
  },
  {
   "cell_type": "code",
   "execution_count": 3,
   "id": "fe364c09",
   "metadata": {},
   "outputs": [
    {
     "name": "stdout",
     "output_type": "stream",
     "text": [
      "The area of a circle with radius 10 is 314.0 meters square.\n"
     ]
    }
   ],
   "source": [
    "# 8\n",
    "radius = 10\n",
    "area = 3.14 * radius ** 2\n",
    "print(\"The area of a circle with radius {} is {} meters square.\".format(radius, area))\n"
   ]
  },
  {
   "cell_type": "code",
   "execution_count": 4,
   "id": "2b1c29d8",
   "metadata": {},
   "outputs": [
    {
     "name": "stdout",
     "output_type": "stream",
     "text": [
      "Enter the number of students: 4\n",
      "Enter weight of student 1 in lbs: 150\n",
      "Enter weight of student 2 in lbs: 155\n",
      "Enter weight of student 3 in lbs: 145\n",
      "Enter weight of student 4 in lbs: 148\n",
      "The weights of students in lbs: [150.0, 155.0, 145.0, 148.0]\n",
      "The weights of students in kg: [68.04, 70.31, 65.77, 67.13]\n"
     ]
    }
   ],
   "source": [
    "# 9\n",
    "N = int(input(\"Enter the number of students: \"))\n",
    "weights_lbs = []\n",
    "weights_kg = []\n",
    "\n",
    "for i in range(N):\n",
    "    weight_lbs = float(input(f\"Enter weight of student {i+1} in lbs: \"))\n",
    "    weights_lbs.append(weight_lbs)\n",
    "    weight_kg = round(weight_lbs * 0.45359237, 2)  # converting lbs to kg and rounding to 2 decimal places\n",
    "    weights_kg.append(weight_kg)\n",
    "\n",
    "print(f\"The weights of students in lbs: {weights_lbs}\")\n",
    "print(f\"The weights of students in kg: {weights_kg}\")"
   ]
  },
  {
   "cell_type": "code",
   "execution_count": null,
   "id": "248d9792",
   "metadata": {},
   "outputs": [],
   "source": [
    "# 10\n",
    "We divide the data equally into two parts: the first 4 data points for training and the last 4 data points for testing.\n",
    "For the first test data point with feature value f=2.5:\n",
    "\n",
    "Calculate the distance to all training data points:\n",
    "distance to (1, 'Class A'): sqrt((1 - 2.5)^2 + (3 - 5)^2) = sqrt(2.5^2 + 2^2) = sqrt(6.25 + 4) = sqrt(10.25) = 3.201\n",
    "distance to (2, 'Class A'): sqrt((2 - 2.5)^2 + (2 - 5)^2) = sqrt(0.5^2 + 3^2) = sqrt(0.25 + 9) = sqrt(9.25) = 3.041\n",
    "distance to (4, 'Class B'): sqrt((4 - 2.5)^2 + (4 - 5)^2) = sqrt(1.5^2 + 1^2) = sqrt(2.25 + 1) = sqrt(3.25) = 1.802\n",
    "Sort the distances in ascending order: [3.041, 3.201, 1.802]\n",
    "Take the first K=3 distances and their corresponding classes: [(2, 'Class A'), (1, 'Class A'), (4, 'Class B')]\n",
    "Count the occurrences of each class: {'Class A': 2, 'Class B': 1}\n",
    "Predict the class with the highest count, which is 'Class A'\n",
    "Repeat the same process for the other 3 test data points with feature values f=4, f=6, and f=7. For the test data point with f=6, there are two training data points with the same feature value, so we need to consider both of them in the distance calculation.\n",
    "\n",
    "The predicted classes for the test data points are: ['Class A', 'Class A', 'Class B', 'Class B']\n",
    "\n",
    "\n",
    "    "
   ]
  },
  {
   "cell_type": "code",
   "execution_count": null,
   "id": "f2d7c12f",
   "metadata": {},
   "outputs": [],
   "source": [
    "Predicted\n",
    "Class A 2 0\n",
    "Class B 1 1\n",
    "\n",
    "Accuracy = (TP + TN) / (TP + TN + FP + FN) = (2 + 1) / 4 = 0.75\n",
    "Sensitivity (True Positive Rate) = TP / (TP + FN) = 2 / 2 = 1.0\n",
    "Specificity (True Negative Rate) = TN / (TN + FP) = 1 / 2 = 0.5"
   ]
  }
 ],
 "metadata": {
  "kernelspec": {
   "display_name": "Python 3 (ipykernel)",
   "language": "python",
   "name": "python3"
  },
  "language_info": {
   "codemirror_mode": {
    "name": "ipython",
    "version": 3
   },
   "file_extension": ".py",
   "mimetype": "text/x-python",
   "name": "python",
   "nbconvert_exporter": "python",
   "pygments_lexer": "ipython3",
   "version": "3.9.7"
  }
 },
 "nbformat": 4,
 "nbformat_minor": 5
}
